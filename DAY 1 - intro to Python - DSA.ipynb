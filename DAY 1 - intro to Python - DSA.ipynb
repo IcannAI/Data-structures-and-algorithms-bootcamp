{
 "cells": [
  {
   "cell_type": "code",
   "execution_count": 5,
   "id": "b789aa1a",
   "metadata": {},
   "outputs": [
    {
     "name": "stdout",
     "output_type": "stream",
     "text": [
      "<class 'int'>\n"
     ]
    }
   ],
   "source": [
    "# int in Python\n",
    "\n",
    "x = 170\n",
    "\n",
    "print(type(x))"
   ]
  },
  {
   "cell_type": "code",
   "execution_count": 4,
   "id": "08248a91",
   "metadata": {},
   "outputs": [
    {
     "name": "stdout",
     "output_type": "stream",
     "text": [
      "<class 'str'>\n"
     ]
    }
   ],
   "source": [
    "# str in Python\n",
    "\n",
    "x = \"lksjotjoshpoeo\"\n",
    "\n",
    "print(type(x))"
   ]
  },
  {
   "cell_type": "code",
   "execution_count": 6,
   "id": "c78465d3",
   "metadata": {},
   "outputs": [
    {
     "name": "stdout",
     "output_type": "stream",
     "text": [
      "<class 'float'>\n"
     ]
    }
   ],
   "source": [
    "# float in Python\n",
    "\n",
    "x = 3.1415926\n",
    "\n",
    "print(type(x))"
   ]
  },
  {
   "cell_type": "code",
   "execution_count": 9,
   "id": "5d27f14c",
   "metadata": {},
   "outputs": [
    {
     "name": "stdout",
     "output_type": "stream",
     "text": [
      "Good job! Well done...Good job! Well done...Good job! Well done...\n"
     ]
    }
   ],
   "source": [
    "# Multiply sequence in Python\n",
    "\n",
    "x = \"Good job! Well done...\" *3\n",
    "\n",
    "print(x)"
   ]
  },
  {
   "cell_type": "code",
   "execution_count": 10,
   "id": "6b27ac08",
   "metadata": {},
   "outputs": [
    {
     "name": "stdout",
     "output_type": "stream",
     "text": [
      " What is  your number?\n"
     ]
    }
   ],
   "source": [
    "# Multiply sequence in Python\n",
    "\n",
    "x = \" What \" + \"is \" + \" your number?\"\n",
    "\n",
    "print(x)"
   ]
  },
  {
   "cell_type": "code",
   "execution_count": 11,
   "id": "5c86eb7c",
   "metadata": {},
   "outputs": [
    {
     "name": "stdout",
     "output_type": "stream",
     "text": [
      "o\n"
     ]
    }
   ],
   "source": [
    "# substring in Python\n",
    "\n",
    "x = \"helloeveryone\"\n",
    "\n",
    "print(x[4])"
   ]
  },
  {
   "cell_type": "code",
   "execution_count": 12,
   "id": "66e17069",
   "metadata": {},
   "outputs": [
    {
     "name": "stdout",
     "output_type": "stream",
     "text": [
      "34567\n",
      "3456\n",
      "\n",
      "3\n"
     ]
    }
   ],
   "source": [
    "# substring in Python\n",
    "\n",
    "x = \"0123456789\"\n",
    "\n",
    "print(x[3:8])\n",
    "\n",
    "print(x[3:7])\n",
    "\n",
    "print(x[3:3])\n",
    "\n",
    "print(x[3:4])"
   ]
  },
  {
   "cell_type": "code",
   "execution_count": 4,
   "id": "8b7a05c6",
   "metadata": {},
   "outputs": [
    {
     "name": "stdout",
     "output_type": "stream",
     "text": [
      "12885.0\n"
     ]
    }
   ],
   "source": [
    "# Arithmetic operations on numbers\n",
    "\n",
    "x = 12345 + 7689*12 - 183458/2 + 70%3\n",
    "\n",
    "print(x)"
   ]
  },
  {
   "cell_type": "code",
   "execution_count": 9,
   "id": "7f57596a",
   "metadata": {},
   "outputs": [
    {
     "name": "stdout",
     "output_type": "stream",
     "text": [
      "1 28.2 28\n"
     ]
    }
   ],
   "source": [
    "# Arithmetic operations on numbers\n",
    "\n",
    "x = 141%5\n",
    "y = 141/5 \n",
    "z = 141//5\n",
    "\n",
    "print(x,y,z)"
   ]
  },
  {
   "cell_type": "code",
   "execution_count": 4,
   "id": "e47715f4",
   "metadata": {},
   "outputs": [],
   "source": [
    "# Question one of Hello User\n",
    "def solve(str):\n",
    "    if len(str)==0:return 'Hello, user!'\n",
    "    else: return \"Hello, \" + str + \"!\""
   ]
  },
  {
   "cell_type": "code",
   "execution_count": 6,
   "id": "6910d738",
   "metadata": {},
   "outputs": [],
   "source": [
    "# Question two of Product of Sum and Difference\n",
    "def solve(a,b):\n",
    "    \n",
    "    "
   ]
  },
  {
   "cell_type": "code",
   "execution_count": null,
   "id": "0bc6b8a2",
   "metadata": {},
   "outputs": [],
   "source": [
    "# Question three of Product of Division"
   ]
  },
  {
   "cell_type": "code",
   "execution_count": null,
   "id": "675338bd",
   "metadata": {},
   "outputs": [],
   "source": []
  },
  {
   "cell_type": "code",
   "execution_count": null,
   "id": "29f31d91",
   "metadata": {},
   "outputs": [],
   "source": []
  }
 ],
 "metadata": {
  "kernelspec": {
   "display_name": "Python 3 (ipykernel)",
   "language": "python",
   "name": "python3"
  },
  "language_info": {
   "codemirror_mode": {
    "name": "ipython",
    "version": 3
   },
   "file_extension": ".py",
   "mimetype": "text/x-python",
   "name": "python",
   "nbconvert_exporter": "python",
   "pygments_lexer": "ipython3",
   "version": "3.9.12"
  }
 },
 "nbformat": 4,
 "nbformat_minor": 5
}
