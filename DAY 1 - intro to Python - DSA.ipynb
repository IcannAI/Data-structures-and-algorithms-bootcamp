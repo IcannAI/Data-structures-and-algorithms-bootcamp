{
 "cells": [
  {
   "cell_type": "code",
   "execution_count": 5,
   "id": "b789aa1a",
   "metadata": {},
   "outputs": [
    {
     "name": "stdout",
     "output_type": "stream",
     "text": [
      "<class 'int'>\n"
     ]
    }
   ],
   "source": [
    "# int in Python\n",
    "\n",
    "x = 170\n",
    "\n",
    "print(type(x))"
   ]
  },
  {
   "cell_type": "code",
   "execution_count": 4,
   "id": "08248a91",
   "metadata": {},
   "outputs": [
    {
     "name": "stdout",
     "output_type": "stream",
     "text": [
      "<class 'str'>\n"
     ]
    }
   ],
   "source": [
    "# str in Python\n",
    "\n",
    "x = \"lksjotjoshpoeo\"\n",
    "\n",
    "print(type(x))"
   ]
  },
  {
   "cell_type": "code",
   "execution_count": 6,
   "id": "c78465d3",
   "metadata": {},
   "outputs": [
    {
     "name": "stdout",
     "output_type": "stream",
     "text": [
      "<class 'float'>\n"
     ]
    }
   ],
   "source": [
    "# float in Python\n",
    "\n",
    "x = 3.1415926\n",
    "\n",
    "print(type(x))"
   ]
  },
  {
   "cell_type": "code",
   "execution_count": 26,
   "id": "0cc7834c",
   "metadata": {},
   "outputs": [
    {
     "name": "stdout",
     "output_type": "stream",
     "text": [
      "<class 'int'>\n",
      "<class 'str'>\n",
      "<class 'float'>\n"
     ]
    }
   ],
   "source": [
    "x = 55\n",
    "print(type(x))\n",
    "\n",
    "x = \"iouytwe\"\n",
    "print(type(x))\n",
    "\n",
    "x = 1.234556\n",
    "print(type(x))"
   ]
  },
  {
   "cell_type": "code",
   "execution_count": 9,
   "id": "5d27f14c",
   "metadata": {},
   "outputs": [
    {
     "name": "stdout",
     "output_type": "stream",
     "text": [
      "Good job! Well done...Good job! Well done...Good job! Well done...\n"
     ]
    }
   ],
   "source": [
    "# Multipling sequence in Python\n",
    "\n",
    "x = \"Good job! Well done...\" *3\n",
    "\n",
    "print(x)"
   ]
  },
  {
   "cell_type": "code",
   "execution_count": 10,
   "id": "6b27ac08",
   "metadata": {},
   "outputs": [
    {
     "name": "stdout",
     "output_type": "stream",
     "text": [
      " What is  your number?\n"
     ]
    }
   ],
   "source": [
    "# Multipling sequence in Python\n",
    "\n",
    "x = \" What \" + \"is \" + \" your number?\"\n",
    "\n",
    "print(x)"
   ]
  },
  {
   "cell_type": "code",
   "execution_count": 11,
   "id": "8f74ae0a",
   "metadata": {},
   "outputs": [
    {
     "name": "stdout",
     "output_type": "stream",
     "text": [
      "What is Python\n",
      "WhatisPython\n",
      "What is Python\n"
     ]
    }
   ],
   "source": [
    "x = \"What is Python\"\n",
    "print(x)\n",
    "\n",
    "x = \"What\" + \"is\" + \"Python\"\n",
    "print(x)\n",
    "\n",
    "x = \"What \" + \"is \" + \"Python\"\n",
    "print(x)"
   ]
  },
  {
   "cell_type": "code",
   "execution_count": 14,
   "id": "dd1a38d6",
   "metadata": {},
   "outputs": [
    {
     "name": "stdout",
     "output_type": "stream",
     "text": [
      "Good...Good...Good...\n",
      "Good...Good...Good...\n",
      "\n",
      "\n"
     ]
    }
   ],
   "source": [
    "# Multpling sequence by int of type\n",
    "\n",
    "x = \"Good...\" * 3\n",
    "print(x)\n",
    "\n",
    "x = 3 * \"Good...\"\n",
    "print(x)\n",
    "\n",
    "x = \"Good\" * -1\n",
    "print(x)\n",
    "\n",
    "x = \"Good\" * -2\n",
    "print(x)"
   ]
  },
  {
   "cell_type": "code",
   "execution_count": 72,
   "id": "a484da58",
   "metadata": {},
   "outputs": [
    {
     "name": "stdout",
     "output_type": "stream",
     "text": [
      "okweqrttyg\n",
      "jieopkr\n"
     ]
    }
   ],
   "source": [
    "# \\n represents the new-line\n",
    "\n",
    "x = \"okweqrttyg\\njieopkr\"\n",
    "print(x)"
   ]
  },
  {
   "cell_type": "code",
   "execution_count": 74,
   "id": "e42e003d",
   "metadata": {},
   "outputs": [
    {
     "name": "stdout",
     "output_type": "stream",
     "text": [
      "7 abcdefghi 2027\n",
      "7&&&abcdefghi&&&2027\n"
     ]
    }
   ],
   "source": [
    "print(7,\"abcdefghi\", 2022+5)\n",
    "print(7,\"abcdefghi\", 2022+5, sep=\"&&&\")"
   ]
  },
  {
   "cell_type": "code",
   "execution_count": 73,
   "id": "5051346d",
   "metadata": {},
   "outputs": [
    {
     "name": "stdout",
     "output_type": "stream",
     "text": [
      "okweqrttyg\\jieopkr\n"
     ]
    }
   ],
   "source": [
    "# \\\\ represents the backslash\n",
    "\n",
    "x = \"okweqrttyg\\\\jieopkr\"\n",
    "print(x)"
   ]
  },
  {
   "cell_type": "code",
   "execution_count": 11,
   "id": "5c86eb7c",
   "metadata": {},
   "outputs": [
    {
     "name": "stdout",
     "output_type": "stream",
     "text": [
      "o\n"
     ]
    }
   ],
   "source": [
    "# substring in Python\n",
    "\n",
    "x = \"helloeveryone\"\n",
    "\n",
    "print(x[4])"
   ]
  },
  {
   "cell_type": "code",
   "execution_count": 12,
   "id": "66e17069",
   "metadata": {},
   "outputs": [
    {
     "name": "stdout",
     "output_type": "stream",
     "text": [
      "34567\n",
      "3456\n",
      "\n",
      "3\n"
     ]
    }
   ],
   "source": [
    "# substring in Python\n",
    "\n",
    "x = \"0123456789\"\n",
    "\n",
    "print(x[3:8])\n",
    "\n",
    "print(x[3:7])\n",
    "\n",
    "print(x[3:3])\n",
    "\n",
    "print(x[3:4])"
   ]
  },
  {
   "cell_type": "code",
   "execution_count": 30,
   "id": "b728c800",
   "metadata": {},
   "outputs": [
    {
     "name": "stdout",
     "output_type": "stream",
     "text": [
      "o\n",
      "<class 'str'>\n",
      "a\n",
      "9\n",
      "u\n",
      "u\n",
      "o\n",
      "o\n"
     ]
    }
   ],
   "source": [
    "x = \"howareyou\"\n",
    "y = x[1]\n",
    "\n",
    "print(y)\n",
    "print(type(y))\n",
    "\n",
    "print(x[3])\n",
    "print(len(x))\n",
    "\n",
    "print(x[-1])\n",
    "print(x[len(x)-1])\n",
    "\n",
    "print(x[-2])\n",
    "print(x[len(x)-2])"
   ]
  },
  {
   "cell_type": "code",
   "execution_count": 56,
   "id": "b809fcea",
   "metadata": {},
   "outputs": [
    {
     "name": "stdout",
     "output_type": "stream",
     "text": [
      "cdefg\n",
      "ceg\n",
      "cf\n",
      "fedcb\n",
      "db\n",
      "cegi\n"
     ]
    }
   ],
   "source": [
    "# n[a:b:c], a refers to the start index, b refers to the stop index, and c refers to the step size\n",
    "\n",
    "n = \"abcdefghij\"\n",
    "print(n[2:7:1])\n",
    "print(n[2:7:2])\n",
    "print(n[2:7:3])\n",
    "print(n[5:0:-1])\n",
    "print(n[3:0:-2])\n",
    "print(n[2: :2])"
   ]
  },
  {
   "cell_type": "code",
   "execution_count": 38,
   "id": "78e469f4",
   "metadata": {},
   "outputs": [
    {
     "name": "stdout",
     "output_type": "stream",
     "text": [
      "7\n",
      "34567\n",
      "3456\n",
      "345\n",
      "34\n",
      "3\n"
     ]
    }
   ],
   "source": [
    "x = \"0123456789\"\n",
    "\n",
    "print(x[7])\n",
    "print(x[3:8])\n",
    "print(x[3:7])\n",
    "print(x[3:6])\n",
    "print(x[3:5])\n",
    "print(x[3:4])"
   ]
  },
  {
   "cell_type": "code",
   "execution_count": 54,
   "id": "000ba264",
   "metadata": {},
   "outputs": [
    {
     "name": "stdout",
     "output_type": "stream",
     "text": [
      "23456\n",
      "23456\n",
      "246\n",
      "25\n"
     ]
    }
   ],
   "source": [
    "x = \"0123456789\"\n",
    "\n",
    "print(x[2:7])\n",
    "print(x[2:7:1])\n",
    "print(x[2:7:2])\n",
    "print(x[2:7:3])"
   ]
  },
  {
   "cell_type": "code",
   "execution_count": 53,
   "id": "81c26fed",
   "metadata": {},
   "outputs": [
    {
     "name": "stdout",
     "output_type": "stream",
     "text": [
      "76543\n",
      "321\n",
      "31\n"
     ]
    }
   ],
   "source": [
    "# Reverse\n",
    "x = \"0123456789\"\n",
    "\n",
    "print(x[7:2:-1])\n",
    "print(x[3:0:-1])\n",
    "print(x[3:0:-2])"
   ]
  },
  {
   "cell_type": "code",
   "execution_count": 67,
   "id": "fbda4774",
   "metadata": {},
   "outputs": [
    {
     "name": "stdout",
     "output_type": "stream",
     "text": [
      "02468\n",
      "579\n",
      "07\n",
      "0123456\n",
      "789\n"
     ]
    }
   ],
   "source": [
    "x = \"0123456789\"\n",
    "\n",
    "print(x[ : :2])\n",
    "print(x[5: :2])\n",
    "print(x[ : :7])\n",
    "print(x[ :7])\n",
    "print(x[7: ])"
   ]
  },
  {
   "cell_type": "code",
   "execution_count": 69,
   "id": "063c4c17",
   "metadata": {},
   "outputs": [
    {
     "name": "stdout",
     "output_type": "stream",
     "text": [
      "9876543210\n",
      "9876543210\n",
      "7531\n",
      "98765\n",
      "975\n"
     ]
    }
   ],
   "source": [
    "# Reverse\n",
    "\n",
    "x = \"0123456789\"\n",
    "\n",
    "print(x[ : :-1])\n",
    "print(x[9: :-1])\n",
    "print(x[7: :-2])\n",
    "print(x[ :4:-1])\n",
    "print(x[ :4:-2])"
   ]
  },
  {
   "cell_type": "code",
   "execution_count": 4,
   "id": "8b7a05c6",
   "metadata": {},
   "outputs": [
    {
     "name": "stdout",
     "output_type": "stream",
     "text": [
      "12885.0\n"
     ]
    }
   ],
   "source": [
    "# Arithmetic operations on numbers\n",
    "\n",
    "x = 12345 + 7689*12 - 183458/2 + 70%3\n",
    "\n",
    "print(x)"
   ]
  },
  {
   "cell_type": "code",
   "execution_count": 9,
   "id": "7f57596a",
   "metadata": {},
   "outputs": [
    {
     "name": "stdout",
     "output_type": "stream",
     "text": [
      "1 28.2 28\n"
     ]
    }
   ],
   "source": [
    "# Arithmetic operations on numbers\n",
    "\n",
    "x = 141%5\n",
    "y = 141/5 \n",
    "z = 141//5\n",
    "\n",
    "print(x,y,z)"
   ]
  },
  {
   "cell_type": "code",
   "execution_count": 4,
   "id": "103c1816",
   "metadata": {},
   "outputs": [
    {
     "name": "stdout",
     "output_type": "stream",
     "text": [
      "262411606192\n"
     ]
    }
   ],
   "source": [
    "# Enchanting Verifiable Transformation\n",
    "\n",
    "print(id(123))\n"
   ]
  },
  {
   "cell_type": "code",
   "execution_count": 7,
   "id": "92cd0811",
   "metadata": {},
   "outputs": [
    {
     "name": "stdout",
     "output_type": "stream",
     "text": [
      "262411413936\n",
      "262411413936\n",
      "262411414000\n",
      "262411413936\n"
     ]
    }
   ],
   "source": [
    "# Enchanting Verifiable Transformation\n",
    "\n",
    "x = 5\n",
    "print(id(x))\n",
    "\n",
    "y = x \n",
    "print(id(y))\n",
    "\n",
    "y = 7\n",
    "print(id(y))\n",
    "\n",
    "print(id(x))"
   ]
  },
  {
   "cell_type": "code",
   "execution_count": 8,
   "id": "367bd406",
   "metadata": {},
   "outputs": [
    {
     "name": "stdout",
     "output_type": "stream",
     "text": [
      "262411413808\n",
      "262411413840\n"
     ]
    }
   ],
   "source": [
    "# Enchanting Verifiable Transformation\n",
    "\n",
    "x = 1\n",
    "print(id(x))\n",
    "\n",
    "x = 2\n",
    "print(id(x))"
   ]
  },
  {
   "cell_type": "code",
   "execution_count": 75,
   "id": "95ea84c4",
   "metadata": {},
   "outputs": [
    {
     "name": "stdout",
     "output_type": "stream",
     "text": [
      "asdfghj\n",
      "asdfghj\n"
     ]
    }
   ],
   "source": [
    "x = \"asdfghj\"\n",
    "print(x)\n",
    "\n",
    "y = 'asdfghj'\n",
    "print(y)"
   ]
  },
  {
   "cell_type": "code",
   "execution_count": 76,
   "id": "2d5d60fe",
   "metadata": {},
   "outputs": [
    {
     "name": "stdout",
     "output_type": "stream",
     "text": [
      "<class 'bool'>\n",
      "<class 'bool'>\n"
     ]
    }
   ],
   "source": [
    "x = True\n",
    "print(type(x))\n",
    "\n",
    "x = False\n",
    "print(type(x))"
   ]
  },
  {
   "cell_type": "code",
   "execution_count": 100,
   "id": "dc70aef1",
   "metadata": {},
   "outputs": [
    {
     "name": "stdout",
     "output_type": "stream",
     "text": [
      "<class 'str'>\n",
      "<class 'int'>\n",
      "7\n",
      "7\n"
     ]
    }
   ],
   "source": [
    "x = 5\n",
    "x = x + 2\n",
    "y = \"36\"\n",
    "\n",
    "print(type(y))\n",
    "print(type(x))\n",
    "print(x)\n",
    "\n",
    "y = int(x)\n",
    "print(y)"
   ]
  },
  {
   "cell_type": "code",
   "execution_count": 102,
   "id": "bf14530d",
   "metadata": {},
   "outputs": [
    {
     "name": "stdout",
     "output_type": "stream",
     "text": [
      "1\n"
     ]
    }
   ],
   "source": [
    "print(int(\"0000001\"))"
   ]
  },
  {
   "cell_type": "code",
   "execution_count": 103,
   "id": "c3bda971",
   "metadata": {},
   "outputs": [
    {
     "name": "stdout",
     "output_type": "stream",
     "text": [
      "<class 'float'>\n",
      "3.14159\n",
      "3\n",
      "<class 'int'>\n"
     ]
    }
   ],
   "source": [
    "x = 3.14159\n",
    "print(type(x))\n",
    "print(x)\n",
    "\n",
    "y = int(x)\n",
    "print(y)\n",
    "print(type(y))"
   ]
  },
  {
   "cell_type": "code",
   "execution_count": 104,
   "id": "a394829f",
   "metadata": {},
   "outputs": [
    {
     "name": "stdout",
     "output_type": "stream",
     "text": [
      "7\n"
     ]
    }
   ],
   "source": [
    "print(int(float(\"7.77\")))"
   ]
  },
  {
   "cell_type": "code",
   "execution_count": 25,
   "id": "e47715f4",
   "metadata": {},
   "outputs": [],
   "source": [
    "# Question one of Hello User\n",
    "\n",
    "def solve(str):\n",
    "    if len(str)==0:return \"Hello, user!\"\n",
    "    else:return \"Hello, \" + str + \"!\""
   ]
  },
  {
   "cell_type": "code",
   "execution_count": 6,
   "id": "6910d738",
   "metadata": {},
   "outputs": [],
   "source": [
    "# Question two of Product of Sum and Difference\n",
    "def solve(a,b):\n",
    "    \n",
    "    "
   ]
  },
  {
   "cell_type": "code",
   "execution_count": null,
   "id": "0bc6b8a2",
   "metadata": {},
   "outputs": [],
   "source": [
    "# Question three of Product of Division"
   ]
  },
  {
   "cell_type": "code",
   "execution_count": null,
   "id": "675338bd",
   "metadata": {},
   "outputs": [],
   "source": []
  },
  {
   "cell_type": "code",
   "execution_count": null,
   "id": "29f31d91",
   "metadata": {},
   "outputs": [],
   "source": []
  }
 ],
 "metadata": {
  "kernelspec": {
   "display_name": "Python 3 (ipykernel)",
   "language": "python",
   "name": "python3"
  },
  "language_info": {
   "codemirror_mode": {
    "name": "ipython",
    "version": 3
   },
   "file_extension": ".py",
   "mimetype": "text/x-python",
   "name": "python",
   "nbconvert_exporter": "python",
   "pygments_lexer": "ipython3",
   "version": "3.9.12"
  }
 },
 "nbformat": 4,
 "nbformat_minor": 5
}
