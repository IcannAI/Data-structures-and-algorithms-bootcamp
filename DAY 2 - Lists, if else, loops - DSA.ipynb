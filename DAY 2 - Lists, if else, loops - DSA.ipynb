{
 "cells": [
  {
   "cell_type": "code",
   "execution_count": 1,
   "id": "7bb58f01",
   "metadata": {},
   "outputs": [
    {
     "name": "stdout",
     "output_type": "stream",
     "text": [
      "What are you from?Canada\n",
      "I am from Canada!\n"
     ]
    }
   ],
   "source": [
    "# Enchangting Verifiable Transformation\n",
    "\n",
    "x = input(\"What are you from?\")\n",
    "print(\"I am from \" + x + \"!\")"
   ]
  },
  {
   "cell_type": "code",
   "execution_count": 2,
   "id": "87cfba3b",
   "metadata": {},
   "outputs": [
    {
     "name": "stdout",
     "output_type": "stream",
     "text": [
      "5\n",
      "How are you How are you How are you How are you How are you \n"
     ]
    }
   ],
   "source": [
    "x = int(input())\n",
    "print(\"How are you \" * x) "
   ]
  },
  {
   "cell_type": "code",
   "execution_count": 3,
   "id": "367186fd",
   "metadata": {},
   "outputs": [
    {
     "name": "stdout",
     "output_type": "stream",
     "text": [
      "838802958640\n",
      "838802958640\n",
      "838802958640\n",
      "838802958608\n",
      "838802958640\n"
     ]
    }
   ],
   "source": [
    "# Lists, sets, and dictionaries are mutable\n",
    "\n",
    "x = 1\n",
    "y = x\n",
    "z = 1\n",
    "a = 0\n",
    "\n",
    "print(id(x))\n",
    "print(id(y))\n",
    "print(id(z))\n",
    "print(id(a))\n",
    "\n",
    "a += 1\n",
    "print(id(a))"
   ]
  },
  {
   "cell_type": "code",
   "execution_count": 4,
   "id": "731593f6",
   "metadata": {},
   "outputs": [
    {
     "name": "stdout",
     "output_type": "stream",
     "text": [
      "<class 'str'>\n",
      "<class 'list'>\n",
      "2\n",
      "audi\n",
      "[False, 'abcdef', 5.7]\n"
     ]
    }
   ],
   "source": [
    "car1 = \"maserati\"\n",
    "car2 = [\"audi\", True]\n",
    "car3 = \"toyota\"\n",
    "car4 = [2, 5.7, \"abcdef\", False]\n",
    "\n",
    "print(type(car1))\n",
    "print(type(car4))\n",
    "print(len(car2))\n",
    "print(car2[0])\n",
    "print(car4[3:0:-1])"
   ]
  },
  {
   "cell_type": "code",
   "execution_count": 5,
   "id": "123e313e",
   "metadata": {},
   "outputs": [
    {
     "name": "stdout",
     "output_type": "stream",
     "text": [
      "[2, 5.7, 'abcdef', False, '765']\n",
      "['765', False, 'abcdef']\n",
      "6\n",
      "<class 'str'>\n",
      "['audi', True, [2, 3, 4]]\n",
      "[2, 3, 4]\n",
      "3\n",
      "<class 'list'>\n"
     ]
    }
   ],
   "source": [
    "# l.append()\n",
    "\n",
    "car1 = \"maserati\"\n",
    "car2 = [2, 5.7, \"abcdef\", False]\n",
    "car3 = \"toyota\"\n",
    "car4 = [\"audi\", True]\n",
    "\n",
    "car2.append(\"765\")\n",
    "print(car2)\n",
    "print(car2[4:1:-1])\n",
    "print(car2[-1][1])\n",
    "print(type(car2[4]))\n",
    "\n",
    "car4.append([2,3,4])\n",
    "print(car4)\n",
    "print(car4[-1])\n",
    "print(car4[-1][1])\n",
    "print(type(car4[2]))"
   ]
  },
  {
   "cell_type": "code",
   "execution_count": 6,
   "id": "6c5f9093",
   "metadata": {},
   "outputs": [
    {
     "name": "stdout",
     "output_type": "stream",
     "text": [
      "838914766656\n",
      "838914766656\n",
      "838912487024\n",
      "838914650352\n"
     ]
    }
   ],
   "source": [
    "# Numbers, strings, tuples, and frozen sets are immutable\n",
    "\n",
    "l = [3,4,5]\n",
    "print(id(l))\n",
    "\n",
    "l.append(4)\n",
    "print(id(l))\n",
    "\n",
    "s = \"apple\"\n",
    "print(id(s))\n",
    "\n",
    "s = s + \"d\"\n",
    "print(id(s))"
   ]
  },
  {
   "cell_type": "code",
   "execution_count": 7,
   "id": "f64f936a",
   "metadata": {},
   "outputs": [
    {
     "name": "stdout",
     "output_type": "stream",
     "text": [
      "[1, 2, 3, 4]\n",
      "[4, 3, 2, 1]\n",
      "[0, 1]\n",
      "[[5, 6, 7], 1]\n",
      "[[5, 6, 7], [8, 9, 10]]\n"
     ]
    }
   ],
   "source": [
    "l = [0,1,2,3,4]\n",
    "\n",
    "print(l[1:])\n",
    "print(l[:0:-1])\n",
    "\n",
    "l[2:] = []\n",
    "print(l)\n",
    "\n",
    "l[0] = [5,6,7]\n",
    "print(l)\n",
    "\n",
    "l[1] = [8,9,10]\n",
    "print(l)"
   ]
  },
  {
   "cell_type": "code",
   "execution_count": 8,
   "id": "d5b620ff",
   "metadata": {},
   "outputs": [
    {
     "name": "stdout",
     "output_type": "stream",
     "text": [
      "[0, 1, 2, 3]\n",
      "21\n"
     ]
    }
   ],
   "source": [
    "# l.pop()\n",
    "\n",
    "l = [33,21,56,7, [0,1,2,3]]\n",
    "\n",
    "print(l.pop())\n",
    "print(l.pop(1))"
   ]
  },
  {
   "cell_type": "code",
   "execution_count": 9,
   "id": "78a10006",
   "metadata": {},
   "outputs": [
    {
     "name": "stdout",
     "output_type": "stream",
     "text": [
      "[2, 8, 12, 54, 90, 120]\n",
      "120\n",
      "2\n"
     ]
    }
   ],
   "source": [
    "# l.sort()\n",
    "\n",
    "l = [54,90,12,8,2,120]\n",
    "l.sort()\n",
    "\n",
    "print(l)\n",
    "print(max(l))\n",
    "print(min(l))"
   ]
  },
  {
   "cell_type": "code",
   "execution_count": 10,
   "id": "08f95a85",
   "metadata": {},
   "outputs": [
    {
     "name": "stdout",
     "output_type": "stream",
     "text": [
      "838912483888\n",
      "838912483888\n"
     ]
    }
   ],
   "source": [
    "s1 = \"oiuyyte\"\n",
    "s2 = s1[:]\n",
    "print(id(s1))\n",
    "print(id(s2))"
   ]
  },
  {
   "cell_type": "code",
   "execution_count": 11,
   "id": "074ac88a",
   "metadata": {},
   "outputs": [
    {
     "name": "stdout",
     "output_type": "stream",
     "text": [
      "838914769792\n",
      "838914769792\n",
      "838914770240\n",
      "[2, 20, 6]\n",
      "[2, 20, 6]\n",
      "[2, 4, 6]\n"
     ]
    }
   ],
   "source": [
    "x = [2,4,6]\n",
    "y = x \n",
    "print(id(x))\n",
    "print(id(y))\n",
    "\n",
    "z = [2,4,6]\n",
    "print(id(z))\n",
    "\n",
    "x[1] = 20\n",
    "print(x)\n",
    "print(y)\n",
    "print(z)"
   ]
  },
  {
   "cell_type": "code",
   "execution_count": 12,
   "id": "92c30b64",
   "metadata": {},
   "outputs": [],
   "source": [
    "# Question one of average between indices\n",
    "\n",
    "def solve(n, arr, x, y):\n",
    "    return sum(arr[x:y+1]) / (y-x+1)"
   ]
  },
  {
   "cell_type": "code",
   "execution_count": 13,
   "id": "eefa70be",
   "metadata": {},
   "outputs": [],
   "source": [
    "# Question two of characters frequency\n",
    "\n",
    "# Solution one\n",
    "\n",
    "def solve(str1):\n",
    "    dict = {}\n",
    "    for i in str1:\n",
    "        if i in dict:\n",
    "            dict[i] += 1\n",
    "        else:\n",
    "            dict[i] = 1\n",
    "            \n",
    "    list = []\n",
    "    \n",
    "    for i in str1:\n",
    "        if dict[i] != 0:\n",
    "            list.append(dict[i])\n",
    "            dict[i] = 0\n",
    "    \n",
    "    return list"
   ]
  },
  {
   "cell_type": "code",
   "execution_count": 14,
   "id": "a4a87f3c",
   "metadata": {},
   "outputs": [],
   "source": [
    "# Solution two\n",
    "\n",
    "def solve(str1):\n",
    "    d = {}\n",
    "    for i in str1:\n",
    "        if i in d:\n",
    "            d[i] += 1\n",
    "        else:\n",
    "            d[i] = 1\n",
    "            \n",
    "    l = []\n",
    "    \n",
    "    for i in str1:\n",
    "        if d[i] != 0:\n",
    "            l.append(d[i])\n",
    "            d[i] = 0\n",
    "    \n",
    "    return l"
   ]
  },
  {
   "cell_type": "code",
   "execution_count": 15,
   "id": "d320c1dc",
   "metadata": {},
   "outputs": [],
   "source": [
    "# Solution three\n",
    "\n",
    "def solve(str1):\n",
    "    li = []\n",
    "    j = []\n",
    "\n",
    "    for i in str1:\n",
    "        if i not in j:\n",
    "            li.append(str1.count(i)) \n",
    "            j.append(i)\n",
    "    return li"
   ]
  },
  {
   "cell_type": "code",
   "execution_count": 16,
   "id": "37058d89",
   "metadata": {},
   "outputs": [],
   "source": [
    "# Solution four\n",
    "\n",
    "def solve(str1):\n",
    "    dic = {}\n",
    "    for letter in str1:\n",
    "        if letter in dic:\n",
    "            dic[letter] += 1\n",
    "        else:\n",
    "            dic[letter] = 1 \n",
    "    return dic.values()"
   ]
  },
  {
   "cell_type": "code",
   "execution_count": 17,
   "id": "d6335bf7",
   "metadata": {},
   "outputs": [],
   "source": [
    "# Question three of palindromic staircase\n"
   ]
  },
  {
   "cell_type": "code",
   "execution_count": null,
   "id": "0e5fd8ac",
   "metadata": {},
   "outputs": [],
   "source": []
  }
 ],
 "metadata": {
  "kernelspec": {
   "display_name": "Python 3 (ipykernel)",
   "language": "python",
   "name": "python3"
  },
  "language_info": {
   "codemirror_mode": {
    "name": "ipython",
    "version": 3
   },
   "file_extension": ".py",
   "mimetype": "text/x-python",
   "name": "python",
   "nbconvert_exporter": "python",
   "pygments_lexer": "ipython3",
   "version": "3.9.12"
  }
 },
 "nbformat": 4,
 "nbformat_minor": 5
}
