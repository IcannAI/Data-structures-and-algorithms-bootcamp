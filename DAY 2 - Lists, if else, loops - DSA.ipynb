{
 "cells": [
  {
   "cell_type": "code",
   "execution_count": 1,
   "id": "f423b025",
   "metadata": {},
   "outputs": [
    {
     "name": "stdout",
     "output_type": "stream",
     "text": [
      "Welcome\n",
      "End\n"
     ]
    }
   ],
   "source": [
    "# if/elif/else statements in Python\n",
    "\n",
    "n = 8\n",
    "\n",
    "if n < 5:\n",
    "    print(\"Hello\")\n",
    "     \n",
    "elif n < 9:\n",
    "    print(\"Welcome\")\n",
    "    \n",
    "elif n < 15:\n",
    "    print(\"Bye\")\n",
    "    \n",
    "else:\n",
    "    print(\"????\")\n",
    "    \n",
    "print(\"End\")\n",
    "        "
   ]
  },
  {
   "cell_type": "code",
   "execution_count": 2,
   "id": "a4c1bb3f",
   "metadata": {},
   "outputs": [
    {
     "name": "stdout",
     "output_type": "stream",
     "text": [
      "99\n",
      "98\n",
      "97\n",
      "96\n",
      "95\n",
      "94\n",
      "93\n",
      "92\n",
      "91\n",
      "90\n",
      "End\n"
     ]
    }
   ],
   "source": [
    "# while loop\n",
    "\n",
    "x = 100\n",
    "while x > 90:\n",
    "    x-=1\n",
    "    print(x)\n",
    "print(\"End\")"
   ]
  },
  {
   "cell_type": "code",
   "execution_count": 3,
   "id": "30031b8b",
   "metadata": {},
   "outputs": [
    {
     "name": "stdout",
     "output_type": "stream",
     "text": [
      "1 997998160176\n",
      "2 997998160208\n",
      "3 997998160240\n",
      "[3, 5, 7] 998095731456\n",
      "998095731456\n"
     ]
    }
   ],
   "source": [
    "# for loop\n",
    "l = [1, 2, 3, [3,5,7]]\n",
    "for x in l:\n",
    "    print(x, id(x))\n",
    "print(id(l[-1]))"
   ]
  },
  {
   "cell_type": "code",
   "execution_count": 4,
   "id": "01b0f07d",
   "metadata": {},
   "outputs": [
    {
     "name": "stdout",
     "output_type": "stream",
     "text": [
      "5\n",
      "52\n",
      "123\n",
      "246\n"
     ]
    }
   ],
   "source": [
    "# Example of for loop\n",
    "\n",
    "l = [5, 47, 71, 123]\n",
    "sum = 0\n",
    "for x in l : \n",
    "    sum += x \n",
    "    print(sum)\n"
   ]
  },
  {
   "cell_type": "code",
   "execution_count": 5,
   "id": "dc1dc423",
   "metadata": {},
   "outputs": [
    {
     "name": "stdout",
     "output_type": "stream",
     "text": [
      "0\n",
      "1\n",
      "2\n",
      "3\n",
      "4\n",
      "366\n"
     ]
    }
   ],
   "source": [
    "# Example of while loop\n",
    "\n",
    "l = [23, 35, 46, 74, 188]\n",
    "\n",
    "sum = 0\n",
    "i = 0\n",
    "\n",
    "while i < len(l):\n",
    "    print(i)\n",
    "    sum += l[i]\n",
    "    i+=1\n",
    "print(sum)"
   ]
  },
  {
   "cell_type": "code",
   "execution_count": 6,
   "id": "7060e706",
   "metadata": {},
   "outputs": [
    {
     "name": "stdout",
     "output_type": "stream",
     "text": [
      "489\n",
      "23\n",
      "612\n",
      "35\n",
      "735\n",
      "46\n",
      "858\n",
      "74\n",
      "981\n",
      "188\n"
     ]
    }
   ],
   "source": [
    "# Example of for loop\n",
    "\n",
    "l = [23, 35, 46, 74, 188]\n",
    "\n",
    "i = 0\n",
    "for i in range(len(l)):\n",
    "    sum += x\n",
    "    print(sum)\n",
    "    print(l[i])"
   ]
  },
  {
   "cell_type": "code",
   "execution_count": 7,
   "id": "42477f63",
   "metadata": {},
   "outputs": [
    {
     "name": "stdout",
     "output_type": "stream",
     "text": [
      "1\n",
      "4\n",
      "41\n"
     ]
    }
   ],
   "source": [
    "# Example of for loop\n",
    "\n",
    "l = [1, 4, 41, 102, 111]\n",
    "\n",
    "sum = 0\n",
    "i = 0\n",
    "\n",
    "for i in range(len(l)):\n",
    "    if i % 4 == 3:\n",
    "        break\n",
    "    print(l[i])\n",
    "    \n"
   ]
  },
  {
   "cell_type": "code",
   "execution_count": 8,
   "id": "26f7fa68",
   "metadata": {},
   "outputs": [
    {
     "name": "stdout",
     "output_type": "stream",
     "text": [
      "4\n",
      "102\n"
     ]
    }
   ],
   "source": [
    "# Example of for loop\n",
    "\n",
    "l = [1, 4, 41, 102, 111]\n",
    "\n",
    "sum = 0\n",
    "i = 0\n",
    "\n",
    "for i in range(len(l)):\n",
    "    if i % 2 == 0:\n",
    "        continue\n",
    "    print(l[i])"
   ]
  },
  {
   "cell_type": "code",
   "execution_count": 9,
   "id": "7bb58f01",
   "metadata": {},
   "outputs": [
    {
     "name": "stdout",
     "output_type": "stream",
     "text": [
      "What are you from?New York\n",
      "I am from New York!\n"
     ]
    }
   ],
   "source": [
    "# Enchangting Verifiable Transformation\n",
    "\n",
    "x = input(\"What are you from?\")\n",
    "print(\"I am from \" + x + \"!\")"
   ]
  },
  {
   "cell_type": "code",
   "execution_count": 10,
   "id": "87cfba3b",
   "metadata": {},
   "outputs": [
    {
     "name": "stdout",
     "output_type": "stream",
     "text": [
      "3\n",
      "How are you How are you How are you \n"
     ]
    }
   ],
   "source": [
    "x = int(input())\n",
    "print(\"How are you \" * x) "
   ]
  },
  {
   "cell_type": "code",
   "execution_count": 11,
   "id": "367186fd",
   "metadata": {},
   "outputs": [
    {
     "name": "stdout",
     "output_type": "stream",
     "text": [
      "997998160176\n",
      "997998160176\n",
      "997998160176\n",
      "997998160144\n",
      "997998160176\n"
     ]
    }
   ],
   "source": [
    "# Lists, sets, and dictionaries are mutable\n",
    "\n",
    "x = 1\n",
    "y = x\n",
    "z = 1\n",
    "a = 0\n",
    "\n",
    "print(id(x))\n",
    "print(id(y))\n",
    "print(id(z))\n",
    "print(id(a))\n",
    "\n",
    "a += 1\n",
    "print(id(a))"
   ]
  },
  {
   "cell_type": "code",
   "execution_count": 12,
   "id": "731593f6",
   "metadata": {},
   "outputs": [
    {
     "name": "stdout",
     "output_type": "stream",
     "text": [
      "<class 'str'>\n",
      "<class 'list'>\n",
      "2\n",
      "audi\n",
      "[False, 'abcdef', 5.7]\n"
     ]
    }
   ],
   "source": [
    "car1 = \"maserati\"\n",
    "car2 = [\"audi\", True]\n",
    "car3 = \"toyota\"\n",
    "car4 = [2, 5.7, \"abcdef\", False]\n",
    "\n",
    "print(type(car1))\n",
    "print(type(car4))\n",
    "print(len(car2))\n",
    "print(car2[0])\n",
    "print(car4[3:0:-1])"
   ]
  },
  {
   "cell_type": "code",
   "execution_count": 13,
   "id": "123e313e",
   "metadata": {},
   "outputs": [
    {
     "name": "stdout",
     "output_type": "stream",
     "text": [
      "[2, 5.7, 'abcdef', False, '765']\n",
      "['765', False, 'abcdef']\n",
      "6\n",
      "<class 'str'>\n",
      "['audi', True, [2, 3, 4]]\n",
      "[2, 3, 4]\n",
      "3\n",
      "<class 'list'>\n"
     ]
    }
   ],
   "source": [
    "# l.append()\n",
    "\n",
    "car1 = \"maserati\"\n",
    "car2 = [2, 5.7, \"abcdef\", False]\n",
    "car3 = \"toyota\"\n",
    "car4 = [\"audi\", True]\n",
    "\n",
    "car2.append(\"765\")\n",
    "print(car2)\n",
    "print(car2[4:1:-1])\n",
    "print(car2[-1][1])\n",
    "print(type(car2[4]))\n",
    "\n",
    "car4.append([2,3,4])\n",
    "print(car4)\n",
    "print(car4[-1])\n",
    "print(car4[-1][1])\n",
    "print(type(car4[2]))"
   ]
  },
  {
   "cell_type": "code",
   "execution_count": 14,
   "id": "6c5f9093",
   "metadata": {},
   "outputs": [
    {
     "name": "stdout",
     "output_type": "stream",
     "text": [
      "998095721792\n",
      "998095721792\n",
      "998095541360\n",
      "998095408752\n"
     ]
    }
   ],
   "source": [
    "# Numbers, strings, tuples, and frozen sets are immutable\n",
    "\n",
    "l = [3,4,5]\n",
    "print(id(l))\n",
    "\n",
    "l.append(4)\n",
    "print(id(l))\n",
    "\n",
    "s = \"apple\"\n",
    "print(id(s))\n",
    "\n",
    "s = s + \"d\"\n",
    "print(id(s))"
   ]
  },
  {
   "cell_type": "code",
   "execution_count": 15,
   "id": "f64f936a",
   "metadata": {},
   "outputs": [
    {
     "name": "stdout",
     "output_type": "stream",
     "text": [
      "[1, 2, 3, 4]\n",
      "[4, 3, 2, 1]\n",
      "[0, 1]\n",
      "[[5, 6, 7], 1]\n",
      "[[5, 6, 7], [8, 9, 10]]\n"
     ]
    }
   ],
   "source": [
    "l = [0,1,2,3,4]\n",
    "\n",
    "print(l[1:])\n",
    "print(l[:0:-1])\n",
    "\n",
    "l[2:] = []\n",
    "print(l)\n",
    "\n",
    "l[0] = [5,6,7]\n",
    "print(l)\n",
    "\n",
    "l[1] = [8,9,10]\n",
    "print(l)"
   ]
  },
  {
   "cell_type": "code",
   "execution_count": 16,
   "id": "d5b620ff",
   "metadata": {},
   "outputs": [
    {
     "name": "stdout",
     "output_type": "stream",
     "text": [
      "[0, 1, 2, 3]\n",
      "21\n"
     ]
    }
   ],
   "source": [
    "# l.pop()\n",
    "\n",
    "l = [33,21,56,7, [0,1,2,3]]\n",
    "\n",
    "print(l.pop())\n",
    "print(l.pop(1))"
   ]
  },
  {
   "cell_type": "code",
   "execution_count": 17,
   "id": "78a10006",
   "metadata": {},
   "outputs": [
    {
     "name": "stdout",
     "output_type": "stream",
     "text": [
      "[2, 8, 12, 54, 90, 120]\n",
      "120\n",
      "2\n"
     ]
    }
   ],
   "source": [
    "# l.sort()\n",
    "\n",
    "l = [54,90,12,8,2,120]\n",
    "l.sort()\n",
    "\n",
    "print(l)\n",
    "print(max(l))\n",
    "print(min(l))"
   ]
  },
  {
   "cell_type": "code",
   "execution_count": 18,
   "id": "08f95a85",
   "metadata": {},
   "outputs": [
    {
     "name": "stdout",
     "output_type": "stream",
     "text": [
      "998095659120\n",
      "998095659120\n"
     ]
    }
   ],
   "source": [
    "s1 = \"oiuyyte\"\n",
    "s2 = s1[:]\n",
    "print(id(s1))\n",
    "print(id(s2))"
   ]
  },
  {
   "cell_type": "code",
   "execution_count": 19,
   "id": "074ac88a",
   "metadata": {},
   "outputs": [
    {
     "name": "stdout",
     "output_type": "stream",
     "text": [
      "998095735424\n",
      "998095735424\n",
      "998095728896\n",
      "[2, 20, 6]\n",
      "[2, 20, 6]\n",
      "[2, 4, 6]\n"
     ]
    }
   ],
   "source": [
    "x = [2,4,6]\n",
    "y = x \n",
    "print(id(x))\n",
    "print(id(y))\n",
    "\n",
    "z = [2,4,6]\n",
    "print(id(z))\n",
    "\n",
    "x[1] = 20\n",
    "print(x)\n",
    "print(y)\n",
    "print(z)"
   ]
  },
  {
   "cell_type": "code",
   "execution_count": 26,
   "id": "32364644",
   "metadata": {},
   "outputs": [
    {
     "name": "stdout",
     "output_type": "stream",
     "text": [
      "0 3\n",
      "1 57\n",
      "2 128\n",
      "3 342\n"
     ]
    }
   ],
   "source": [
    "# Using the function of enumerate() or Python enumerate()\n",
    "\n",
    "list = [3, 57, 128, 342]\n",
    "for index, val in enumerate(list):\n",
    "    print(index, val)"
   ]
  },
  {
   "cell_type": "code",
   "execution_count": 28,
   "id": "d35a305a",
   "metadata": {},
   "outputs": [
    {
     "name": "stdout",
     "output_type": "stream",
     "text": [
      "0 3\n",
      "1 57\n",
      "2 128\n",
      "3 342\n"
     ]
    }
   ],
   "source": [
    "# Using a for loop, without using enumerate()\n",
    "\n",
    "# Loop variable index starting from 0 \n",
    "\n",
    "list = [3, 57, 128, 342]\n",
    "for index in range(len(list)):\n",
    "    value = list[index]\n",
    "    print(index, value)"
   ]
  },
  {
   "cell_type": "code",
   "execution_count": 27,
   "id": "c8351f33",
   "metadata": {},
   "outputs": [
    {
     "name": "stdout",
     "output_type": "stream",
     "text": [
      "1 3\n",
      "2 57\n",
      "3 128\n",
      "4 342\n"
     ]
    }
   ],
   "source": [
    "# Starting the indexing with non zero value\n",
    "\n",
    "# The value of the parameter start offering the starting index\n",
    "\n",
    "list = [3, 57, 128, 342]\n",
    "for index, val in enumerate(list, start = 1):\n",
    "    print(index, val)"
   ]
  },
  {
   "cell_type": "code",
   "execution_count": 20,
   "id": "92c30b64",
   "metadata": {},
   "outputs": [],
   "source": [
    "# Question one of average between indices\n",
    "\n",
    "def solve(n, arr, x, y):\n",
    "    return sum(arr[x:y+1]) / (y-x+1)"
   ]
  },
  {
   "cell_type": "code",
   "execution_count": 21,
   "id": "eefa70be",
   "metadata": {},
   "outputs": [],
   "source": [
    "# Question two of characters frequency\n",
    "\n",
    "# Solution one\n",
    "\n",
    "def solve(str1):\n",
    "    dict = {}\n",
    "    for i in str1:\n",
    "        if i in dict:\n",
    "            dict[i] += 1\n",
    "        else:\n",
    "            dict[i] = 1\n",
    "            \n",
    "    list = []\n",
    "    \n",
    "    for i in str1:\n",
    "        if dict[i] != 0:\n",
    "            list.append(dict[i])\n",
    "            dict[i] = 0\n",
    "    \n",
    "    return list"
   ]
  },
  {
   "cell_type": "code",
   "execution_count": 22,
   "id": "a4a87f3c",
   "metadata": {},
   "outputs": [],
   "source": [
    "# Solution two\n",
    "\n",
    "def solve(str1):\n",
    "    d = {}\n",
    "    for i in str1:\n",
    "        if i in d:\n",
    "            d[i] += 1\n",
    "        else:\n",
    "            d[i] = 1\n",
    "            \n",
    "    l = []\n",
    "    \n",
    "    for i in str1:\n",
    "        if d[i] != 0:\n",
    "            l.append(d[i])\n",
    "            d[i] = 0\n",
    "    \n",
    "    return l"
   ]
  },
  {
   "cell_type": "code",
   "execution_count": 23,
   "id": "d320c1dc",
   "metadata": {},
   "outputs": [],
   "source": [
    "# Solution three\n",
    "\n",
    "def solve(str1):\n",
    "    li = []\n",
    "    j = []\n",
    "\n",
    "    for i in str1:\n",
    "        if i not in j:\n",
    "            li.append(str1.count(i)) \n",
    "            j.append(i)\n",
    "    return li"
   ]
  },
  {
   "cell_type": "code",
   "execution_count": 24,
   "id": "37058d89",
   "metadata": {},
   "outputs": [],
   "source": [
    "# Solution four\n",
    "\n",
    "def solve(str1):\n",
    "    dic = {}\n",
    "    for letter in str1:\n",
    "        if letter in dic:\n",
    "            dic[letter] += 1\n",
    "        else:\n",
    "            dic[letter] = 1 \n",
    "    return dic.values()"
   ]
  },
  {
   "cell_type": "code",
   "execution_count": 25,
   "id": "d6335bf7",
   "metadata": {},
   "outputs": [],
   "source": [
    "# Question three of palindromic staircase\n",
    "\n",
    "def solve(n):\n",
    "    l = []\n",
    "    sum = 0\n",
    "    for i in range(n): \n",
    "        sum = sum + pow(10,i)\n",
    "        l.append(sum*sum)\n",
    "    return l"
   ]
  },
  {
   "cell_type": "code",
   "execution_count": null,
   "id": "0e5fd8ac",
   "metadata": {},
   "outputs": [],
   "source": []
  }
 ],
 "metadata": {
  "kernelspec": {
   "display_name": "Python 3 (ipykernel)",
   "language": "python",
   "name": "python3"
  },
  "language_info": {
   "codemirror_mode": {
    "name": "ipython",
    "version": 3
   },
   "file_extension": ".py",
   "mimetype": "text/x-python",
   "name": "python",
   "nbconvert_exporter": "python",
   "pygments_lexer": "ipython3",
   "version": "3.9.12"
  }
 },
 "nbformat": 4,
 "nbformat_minor": 5
}
